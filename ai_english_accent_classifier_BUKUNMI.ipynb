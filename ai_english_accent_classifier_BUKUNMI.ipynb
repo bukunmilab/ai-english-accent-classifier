{
  "cells": [
    {
      "cell_type": "markdown",
      "metadata": {
        "id": "qFX1yeMXUVR9"
      },
      "source": [
        "# AI Model for English Accent Classification on Audio Streams Extracted from Videos – \n",
        "\n",
        "**N8N AI Workflow Automation Dashboard Self-hosted:** [https://ai.loquisoft.com](https://ai.loquisoft.com)\n",
        "\n",
        "---\n",
        "\n",
        "This notebook demonstrates a working proof-of-concept for classifying English accents from spoken audio in video files, as requested for the REM Waste AI Engineer interview.  \n",
        "It uses state-of-the-art AI (OpenAI Whisper and GPT-4) for transcription and accent reasoning.\n",
        "\n",
        "## Instructions\n",
        "1. Enter your OpenAI API key.\n",
        "2. Enter or use the sample public video URL (MP4 or Loom, direct links work best).\n",
        "3. The notebook will:\n",
        "    - Download the video\n",
        "    - Extract audio\n",
        "    - Transcribe the audio (Whisper)\n",
        "    - Analyze and classify the accent, returning:\n",
        "        - Accent type (e.g., British, American, Australian, etc.)\n",
        "        - Confidence score (0–100%)\n",
        "        - Short explanation\n",
        "\n",
        "## Requirements\n",
        "- OpenAI API access (key required)\n",
        "- Video must be public and downloadable (direct link or Loom)\n",
        "\n",
        "## Cost Transparency\n",
        "\n",
        "- **Whisper-1 transcription:** Approximately \\$0.006 per audio minute ([OpenAI Pricing](https://openai.com/pricing))\n",
        "- **GPT-4 prompt/response:** Depends on transcript length; short interview clips usually cost a few cents per run.\n",
        "- **For this demo:** Using the sample video will incur negligible cost (less than \\$0.02 total).\n",
        "\n",
        "## Deliverables\n",
        "- Fully functional and clear script\n",
        "- Logical, modern AI approach\n",
        "- Clear outputs and setup\n",
        "\n",
        "---\n",
        "\n",
        "## To run:\n",
        "1. Run each cell in order.\n",
        "2. Outputs will appear below each step.\n"
      ]
    },
    {
      "cell_type": "code",
      "metadata": {
        "id": "CX6xPJXZUVSC"
      },
      "source": [
        "#@title Install required libraries (quietly)\n",
        "try:\n",
        "    import moviepy\n",
        "except ImportError:\n",
        "    !apt-get update -qq && apt-get install -y -qq ffmpeg\n",
        "    !pip install --upgrade yt-dlp moviepy openai --quiet\n",
        "    !pip install -q openai-whisper pytube ffmpeg-python torch"
      ],
      "execution_count": null,
      "outputs": []
    },
    {
      "cell_type": "code",
      "source": [
        "import openai\n",
        "print(\"OpenAI version:\", openai.__version__)"
      ],
      "metadata": {
        "colab": {
          "base_uri": "https://localhost:8080/"
        },
        "id": "Of8WYuMjy_UU",
        "outputId": "2d4cc48b-bb03-41d4-aba2-5399ad58331f"
      },
      "execution_count": null,
      "outputs": [
        {
          "output_type": "stream",
          "name": "stdout",
          "text": [
            "OpenAI version: 1.78.1\n"
          ]
        }
      ]
    },
    {
      "cell_type": "markdown",
      "metadata": {
        "id": "awgbNIOKUVSD"
      },
      "source": [
        "## 1. Enter OpenAI API Key and Video URL"
      ]
    },
    {
      "cell_type": "code",
      "metadata": {
        "colab": {
          "base_uri": "https://localhost:8080/"
        },
        "id": "of_6E_auUVSE",
        "outputId": "de5c1361-a5e2-4a09-9ca2-bfa344ec9c1a"
      },
      "source": [
        "#@title Enter Your OpenAI API Key and Video URL\n",
        "#\n",
        "# For production: use getpass and input for security\n",
        "# import getpass\n",
        "# openai_api_key = getpass.getpass(\"Enter your OpenAI API key: \")\n",
        "# video_url = input(\"Enter a public video URL (direct MP4 or Loom): \")\n",
        "\n",
        "# For demonstration/testing, values are hardcoded below\n",
        "openai_api_key = \"Enter_your _API _Key here"  # <-- You should replace with your actual OpenAI API key\n",
        "video_url = \"https://loquisoft-media.s3.amazonaws.com/file/sampleMonologue1.mp4\"\n",
        "\n",
        "print(f\"Using video URL: {video_url}\")"
      ],
      "execution_count": null,
      "outputs": [
        {
          "output_type": "stream",
          "name": "stdout",
          "text": [
            "Using video URL: https://loquisoft-media.s3.amazonaws.com/file/sampleMonologue1.mp4\n"
          ]
        }
      ]
    },
    {
      "cell_type": "markdown",
      "metadata": {
        "id": "S8_SP8fBUVSE"
      },
      "source": [
        "## 2. Download Video (with Exception Handling)"
      ]
    },
    {
      "cell_type": "code",
      "metadata": {
        "colab": {
          "base_uri": "https://localhost:8080/"
        },
        "id": "EmXEHKN1UVSE",
        "outputId": "0f13e514-c4f5-46a7-93fb-3e37e3f59eb3"
      },
      "source": [
        "#@title Download Video\n",
        "import yt_dlp\n",
        "import os\n",
        "\n",
        "download_error = None\n",
        "video_file = None\n",
        "\n",
        "try:\n",
        "    ydl_opts = {'outtmpl': 'input_video.%(ext)s'}\n",
        "    with yt_dlp.YoutubeDL(ydl_opts) as ydl:\n",
        "        ydl.download([video_url])\n",
        "    video_file = [f for f in os.listdir() if f.startswith(\"input_video\")][0]\n",
        "    print(f\"Downloaded video: {video_file}\")\n",
        "except Exception as e:\n",
        "    download_error = str(e)\n",
        "    print(f\"Error downloading video: {download_error}\")"
      ],
      "execution_count": null,
      "outputs": [
        {
          "output_type": "stream",
          "name": "stdout",
          "text": [
            "[generic] Extracting URL: https://loquisoft-media.s3.amazonaws.com/file/sampleMonologue1.mp4\n",
            "[generic] sampleMonologue1: Downloading webpage\n",
            "[info] sampleMonologue1: Downloading 1 format(s): mp4\n",
            "[download] input_video.mp4 has already been downloaded\n",
            "[download] 100% of    6.11MiB\n",
            "Downloaded video: input_video.mp4\n"
          ]
        }
      ]
    },
    {
      "cell_type": "markdown",
      "metadata": {
        "id": "l1nH-FntUVSE"
      },
      "source": [
        "## 3. Extract Audio (with Exception Handling)"
      ]
    },
    {
      "cell_type": "code",
      "metadata": {
        "colab": {
          "base_uri": "https://localhost:8080/"
        },
        "id": "2b-K4ZGwUVSF",
        "outputId": "ce0d33ce-43c0-45d0-a24d-c6490e334c9a"
      },
      "source": [
        "#@title Extract Audio from Video\n",
        "from moviepy.editor import VideoFileClip\n",
        "\n",
        "audio_file = \"audio.wav\"\n",
        "extract_error = None\n",
        "if video_file is not None:\n",
        "    try:\n",
        "        video = VideoFileClip(video_file)\n",
        "        video.audio.write_audiofile(audio_file, logger=None)\n",
        "        print(f\"Audio extracted: {audio_file}\")\n",
        "    except Exception as e:\n",
        "        extract_error = str(e)\n",
        "        print(f\"Error extracting audio: {extract_error}\")\n",
        "else:\n",
        "    print(\"Skipping audio extraction due to video download error.\")"
      ],
      "execution_count": null,
      "outputs": [
        {
          "output_type": "stream",
          "name": "stdout",
          "text": [
            "Audio extracted: audio.wav\n"
          ]
        }
      ]
    },
    {
      "cell_type": "code",
      "source": [
        "#@title Compress extracted audio to reduce file size for Whisper API\n",
        "\n",
        "# This step ensures the audio file is under 25MB by:\n",
        "# - Converting stereo to mono\n",
        "# - Lowering the sample rate (16kHz is enough for speech)\n",
        "# - Reducing bitrate\n",
        "# This helps avoid \"413: Payload Too Large\" errors when calling Whisper.\n",
        "\n",
        "import subprocess\n",
        "\n",
        "compressed_audio_file = \"audio_compressed.wav\"\n",
        "\n",
        "# Use ffmpeg (installed in Colab by default) to compress the audio\n",
        "# If running locally and ffmpeg isn't installed, uncomment the next line:\n",
        "# !apt-get -y install ffmpeg\n",
        "\n",
        "input_audio = audio_file  # use your previously extracted audio filename\n",
        "\n",
        "# Compress: mono, 16 kHz sample rate, 32k bitrate\n",
        "cmd = [\n",
        "    'ffmpeg', '-i', input_audio,\n",
        "    '-ac', '1',        # mono\n",
        "    '-ar', '16000',    # 16 kHz sample rate\n",
        "    '-b:a', '32k',     # 32 kbps bitrate\n",
        "    '-y',              # overwrite output file if exists\n",
        "    compressed_audio_file\n",
        "]\n",
        "\n",
        "# Run ffmpeg and suppress output\n",
        "subprocess.run(cmd, stdout=subprocess.PIPE, stderr=subprocess.PIPE)\n",
        "\n",
        "# Update audio_file variable for downstream steps\n",
        "audio_file = compressed_audio_file\n",
        "\n",
        "# Show new file size\n",
        "import os\n",
        "print(f\"Compressed audio file size: {os.path.getsize(audio_file)/1024/1024:.2f} MB\")\n"
      ],
      "metadata": {
        "colab": {
          "base_uri": "https://localhost:8080/"
        },
        "id": "-mH721Y_0GVy",
        "outputId": "6f022d33-0fa3-4cab-93c7-7a381d35f74c"
      },
      "execution_count": null,
      "outputs": [
        {
          "output_type": "stream",
          "name": "stdout",
          "text": [
            "Compressed audio file size: 4.59 MB\n"
          ]
        }
      ]
    },
    {
      "cell_type": "markdown",
      "metadata": {
        "id": "P0eyPjriUVSF"
      },
      "source": [
        "## 4. Transcribe Audio with Whisper (with Exception Handling)"
      ]
    },
    {
      "cell_type": "code",
      "metadata": {
        "colab": {
          "base_uri": "https://localhost:8080/"
        },
        "id": "0oFHXOK4UVSF",
        "outputId": "baf975b9-6598-426f-9526-cc9ffd4d5e31"
      },
      "source": [
        "#@title Transcribe Audio using OpenAI Whisper (for openai>=1.0.0)\n",
        "from openai import OpenAI\n",
        "\n",
        "transcript = None\n",
        "transcribe_error = None\n",
        "\n",
        "if extract_error is None and os.path.exists(audio_file):\n",
        "    try:\n",
        "        client = OpenAI(api_key=openai_api_key)\n",
        "        with open(audio_file, \"rb\") as af:\n",
        "            transcript = client.audio.transcriptions.create(\n",
        "                model=\"whisper-1\",\n",
        "                file=af\n",
        "            )\n",
        "        print(\"Transcript Preview:\\n\", transcript.text[:500])\n",
        "    except Exception as e:\n",
        "        transcribe_error = str(e)\n",
        "        print(f\"Error during transcription: {transcribe_error}\")\n",
        "else:\n",
        "    print(\"Skipping transcription due to previous error.\")\n"
      ],
      "execution_count": null,
      "outputs": [
        {
          "output_type": "stream",
          "name": "stdout",
          "text": [
            "Transcript Preview:\n",
            " Hi, my name is Isaac Peloso and I'll be performing a monologue from The Darling Family, playing the character of He. Once I asked my mother's friend, do you know where my father is? I was four years old and they told him and made him visit me. I was insane with joy. But, he couldn't look at me. I kept running into the kitchen to try to take a look at him, and he just sat there and played cards with the friends who brought him. He'd just look at me and go, hi there. He tried to talk to me but he \n"
          ]
        }
      ]
    },
    {
      "cell_type": "markdown",
      "metadata": {
        "id": "r_G5Ha6GUVSF"
      },
      "source": [
        "## 5. Analyze and Classify Accent with GPT-4 (with Exception Handling)"
      ]
    },
    {
      "cell_type": "code",
      "metadata": {
        "colab": {
          "base_uri": "https://localhost:8080/"
        },
        "id": "8FVQrRLqUVSG",
        "outputId": "1b733bcd-d584-4e1d-cbf4-a010bb0424f5"
      },
      "source": [
        "#@title Analyze and Classify Accent with GPT-4\n",
        "from openai import OpenAI\n",
        "\n",
        "accent_analysis = None\n",
        "accent_error = None\n",
        "\n",
        "if transcript is not None and hasattr(transcript, \"text\") and transcript.text.strip() != \"\":\n",
        "    accent_prompt = f\"\"\"\n",
        "You are an expert linguist and accent classifier.\n",
        "Given the following English transcript from a candidate's spoken audio, do your best to determine the speaker's English accent (e.g., British, American, Australian, Indian, South African, etc.).\n",
        "\n",
        "Respond in this format:\n",
        "Accent: <Type>\n",
        "Confidence: <0-100%>\n",
        "Explanation: <A brief rationale for your classification, mentioning any clues or uncertainties.>\n",
        "\n",
        "Transcript:\n",
        "{transcript.text}\n",
        "\"\"\"\n",
        "    try:\n",
        "        client = OpenAI(api_key=openai_api_key)\n",
        "        response = client.chat.completions.create(\n",
        "            model=\"gpt-4\",\n",
        "            messages=[{\"role\": \"user\", \"content\": accent_prompt}],\n",
        "            temperature=0.2\n",
        "        )\n",
        "        accent_analysis = response.choices[0].message.content\n",
        "        print(accent_analysis)\n",
        "    except Exception as e:\n",
        "        accent_error = str(e)\n",
        "        print(f\"Error during accent analysis: {accent_error}\")\n",
        "else:\n",
        "    print(\"Skipping accent analysis due to previous error.\")\n"
      ],
      "execution_count": null,
      "outputs": [
        {
          "output_type": "stream",
          "name": "stdout",
          "text": [
            "Accent: American\n",
            "Confidence: 80%\n",
            "Explanation: The speaker uses American English vocabulary and phrases, such as \"mom\" instead of \"mum\" and \"trivia\" instead of \"quiz\". The speaker also references American pop culture, such as Johnny Rotten and The Cramps, which are both associated with American punk rock. The speaker's use of the phrase \"rock and roll\" also suggests an American accent, as this term is more commonly used in the United States. However, without hearing the speaker's pronunciation and intonation, it's difficult to be 100% certain.\n"
          ]
        }
      ]
    },
    {
      "cell_type": "markdown",
      "metadata": {
        "id": "5IQKr44pUVSG"
      },
      "source": [
        "## 6. Final Output"
      ]
    },
    {
      "cell_type": "code",
      "metadata": {
        "colab": {
          "base_uri": "https://localhost:8080/",
          "height": 142
        },
        "id": "CwnFdwkCUVSG",
        "outputId": "922c6815-6f52-467b-b289-2bd7622bba2a"
      },
      "source": [
        "#@title Final Output\n",
        "from IPython.display import Markdown\n",
        "\n",
        "if accent_analysis:\n",
        "    display(Markdown(f\"## Accent Analysis Result\\n\\n{accent_analysis}\"))\n",
        "else:\n",
        "    print(\"No accent analysis result available.\")"
      ],
      "execution_count": null,
      "outputs": [
        {
          "output_type": "display_data",
          "data": {
            "text/plain": [
              "<IPython.core.display.Markdown object>"
            ],
            "text/markdown": "## Accent Analysis Result\n\nAccent: American\nConfidence: 80%\nExplanation: The speaker uses American English vocabulary and phrases, such as \"mom\" instead of \"mum\" and \"trivia\" instead of \"quiz\". The speaker also references American pop culture, such as Johnny Rotten and The Cramps, which are both associated with American punk rock. The speaker's use of the phrase \"rock and roll\" also suggests an American accent, as this term is more commonly used in the United States. However, without hearing the speaker's pronunciation and intonation, it's difficult to be 100% certain."
          },
          "metadata": {}
        }
      ]
    },
    {
      "cell_type": "markdown",
      "metadata": {
        "id": "V_pLchV2UVSG"
      },
      "source": [
        "## (Optional) Clean Up Files"
      ]
    },
    {
      "cell_type": "code",
      "metadata": {
        "colab": {
          "base_uri": "https://localhost:8080/"
        },
        "id": "2z1QlhhfUVSG",
        "outputId": "186ea814-5b0d-4c1e-c1e6-50fe929fcaf1"
      },
      "source": [
        "#@title (Optional) Clean Up Files\n",
        "import shutil\n",
        "\n",
        "try:\n",
        "    if os.path.exists(\"audio.wav\"): os.remove(\"audio.wav\")\n",
        "    if video_file and os.path.exists(video_file): os.remove(video_file)\n",
        "    print(\"Clean up done!\")\n",
        "except Exception as e:\n",
        "    print(\"Cleanup not required or already done.\")"
      ],
      "execution_count": null,
      "outputs": [
        {
          "output_type": "stream",
          "name": "stdout",
          "text": [
            "Clean up done!\n"
          ]
        }
      ]
    },
    {
      "cell_type": "markdown",
      "metadata": {
        "id": "xlX8Q7TdUVSG"
      },
      "source": [
        "---\n",
        "\n",
        "### Notes\n",
        "\n",
        "- This notebook delivers a practical, clear, and testable solution for the REM Waste accent classification challenge.\n",
        "- It uses OpenAI Whisper and GPT-4 for transcription and accent analysis, aligned with all evaluation criteria.\n",
        "\n",
        "**Thank you for reviewing my submission!**\n"
      ]
    }
  ],
  "metadata": {
    "kernelspec": {
      "display_name": "Python 3",
      "language": "python",
      "name": "python3"
    },
    "language_info": {
      "name": "python",
      "version": ""
    },
    "colab": {
      "provenance": []
    }
  },
  "nbformat": 4,
  "nbformat_minor": 0
}
