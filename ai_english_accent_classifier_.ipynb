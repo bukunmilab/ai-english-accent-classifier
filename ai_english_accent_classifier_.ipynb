{
  "nbformat": 4,
  "nbformat_minor": 5,
  "metadata": {
    "colab": {
      "name": "AI English Accent Classifier .ipynb",
      "provenance": [],
      "authorship_tag": "ABX9TyObAkO/47vjTLxnhy1Rv9oN",
      "include_colab_link": true
    },
    "kernelspec": {
      "name": "python3",
      "display_name": "Python 3"
    },
    "language_info": {
      "name": "python",
      "version": "3.x"
    }
  },
  "cells": [
    {
      "cell_type": "markdown",
      "metadata": {
        "id": "qFX1yeMXUVR9"
      },
      "source": [
        "# AI Model for English Accent Classification on Audio Streams Extracted from Videos \n",
        "\n",
        "**N8N AI Workflow Automation Dashboard Self-hosted:** [https://ai.loquisoft.com](https://ai.loquisoft.com)\n",
        "\n",
        "---\n",
        "\n",
        "This notebook demonstrates a working proof-of-concept for classifying English accents from spoken audio in video files.  \n",
        "It uses state-of-the-art AI (OpenAI Whisper and GPT-4) for transcription and accent reasoning.\n",
        "\n",
        "## Instructions\n",
        "1. Enter your OpenAI API key.\n",
        "2. Enter or use the sample public video URL (MP4 or Loom, direct links work best).\n",
        "3. The notebook will:\n",
        "    - Download the video\n",
        "    - Extract audio\n",
        "    - Transcribe the audio (Whisper)\n",
        "    - Analyze and classify the accent, returning:\n",
        "        - Accent type (e.g., British, American, Australian, etc.)\n",
        "        - Confidence score (0–100%)\n",
        "        - Short explanation\n",
        "\n",
        "## Requirements\n",
        "- OpenAI API access (key required)\n",
        "- Video must be public and downloadable (direct link or Loom)\n",
        "\n",
        "## Cost Transparency\n",
        "\n",
        "- **Whisper-1 transcription:** Approximately \\$0.006 per audio minute ([OpenAI Pricing](https://openai.com/pricing))\n",
        "- **GPT-4 prompt/response:** Depends on transcript length; short interview clips usually cost a few cents per run.\n",
        "- **For this demo:** Using the sample video will incur negligible cost (less than \\$0.02 total).\n",
        "\n",
        "## Deliverables\n",
        "- Fully functional and clear script\n",
        "- Logical, modern AI approach\n",
        "- Clear outputs and setup\n",
        "\n",
        "---\n",
        "\n",
        "## To run:\n",
        "1. Run each cell in order.\n",
        "2. Outputs will appear below each step.\n"
      ]
    },
    {
      "cell_type": "code",
      "metadata": {
        "id": "CX6xPJXZUVSC"
      },
      "source": [
        "#@title Install required libraries (quietly)\n",
        "try:\n",
        "    import moviepy\n",
        "except ImportError:\n",
        "    !apt-get update -qq && apt-get install -y -qq ffmpeg\n",
        "    !pip install --upgrade yt-dlp moviepy openai --quiet\n",
        "    !pip install -q openai-whisper pytube ffmpeg-python torch"
      ],
      "execution_count": null,
      "outputs": []
    },
    {
      "cell_type": "code",
      "source": [
        "import openai\n",
        "print(\"OpenAI version:\", openai.__version__)"
      ],
      "metadata": {
        "colab": {
          "base_uri": "https://localhost:8080/"
        },
        "id": "Of8WYuMjy_UU",
        "outputId": "2d4cc48b-bb03-41d4-aba2-5399ad58331f"
      },
      "execution_count": null,
      "outputs": [
        {
          "output_type": "stream",
          "name": "stdout",
          "text": [
            "OpenAI version: 1.78.1\n"
          ]
        }
      ]
    },
    {
      "cell_type": "markdown",
      "metadata": {
        "id": "awgbNIOKUVSD"
      },
      "source": [
        "## 1. Enter OpenAI API Key and Video URL"
      ]
    },
    {
      "cell_type": "code",
      "metadata": {
        "colab": {
          "base_uri": "https://localhost:8080/"
        },
        "id": "of_6E_auUVSE",
        "outputId": "de5c1361-a5e2-4a09-9ca2-bfa344ec9c1a"
      },
      "source": [
        "#@title Enter Your OpenAI API Key and Video URL\n",
        "#\n",
        "# For production: use getpass and input for security\n",
        "# import getpass\n",
        "# openai_api_key = getpass.getpass(\"Enter your OpenAI API key: \")\n",
        "# video_url = input(\"Enter a public video URL (direct MP4 or Loom): \")\n",
        "\n",
        "# For demonstration/testing, values are hardcoded below\n",
        "openai_api_key = \"Enter_your_API_Key_here\"  # <-- Replace with your actual OpenAI API key\n",
        "video_url = \"https://loquisoft-media.s3.amazonaws.com/file/sampleMonologue1.mp4\"\n",
        "\n",
        "print(f\"Using video URL: {video_url}\")"
      ],
      "execution_count": null,
      "outputs": [
        {
          "output_type": "stream",
          "name": "stdout",
          "text": [
            "Using video URL: https://loquisoft-media.s3.amazonaws.com/file/sampleMonologue1.mp4\n"
          ]
        }
      ]
    },
    {
      "cell_type": "markdown",
      "metadata": {
        "id": "S8_SP8fBUVSE"
      },
      "source": [
        "## 2. Download Video (with Exception Handling)"
      ]
    },
    {
      "cell_type": "code",
      "metadata": {
        "colab": {
          "base_uri": "https://localhost:8080/"
        },
        "id": "EmXEHKN1UVSE",
        "outputId": "0f13e514-c4f5-46a7-93fb-3e37e3f59eb3"
      },
      "source": [
        "#@title Download Video\n",
        "import yt_dlp\n",
        "import os\n",
        "\n",
        "download_error = None\n",
        "video_file = None\n",
        "\n",
        "try:\n",
        "    ydl_opts = {\"outtmpl\": \"input_video.%(ext)s\"}\n",
        "    with yt_dlp.YoutubeDL(ydl_opts) as ydl:\n",
        "        ydl.download([video_url])\n",
        "    video_file = [f for f in os.listdir() if f.startswith(\"input_video\")][0]\n",
        "    print(f\"Downloaded video: {video_file}\")\n",
        "except Exception as e:\n",
        "    download_error = str(e)\n",
        "    print(f\"Error downloading video: {download_error}\")"
      ],
      "execution_count": null,
      "outputs": [
        {
          "output_type": "stream",
          "name": "stdout",
          "text": [
            "[generic] Extracting URL: https://loquisoft-media.s3.amazonaws.com/file/sampleMonologue1.mp4\n",
            "[generic] sampleMonologue1: Downloading webpage\n",
            "[info] sampleMonologue1: Downloading 1 format(s): mp4\n",
            "[download] input_video.mp4 has already been downloaded\n",
            "[download] 100% of    6.11MiB\n",
            "Downloaded video: input_video.mp4\n"
          ]
        }
      ]
    },
    {
      "cell_type": "markdown",
      "metadata": {
        "id": "l1nH-FntUVSE"
      },
      "source": [
        "## 3. Extract Audio (with Exception Handling)"
      ]
    },
    {
      "cell_type": "code",
      "metadata": {
        "colab": {
          "base_uri": "https://localhost:8080/"
        },
        "id": "2b-K4ZGwUVSF",
        "outputId": "ce0d33ce-43c0-45d0-a24d-c6490e334c9a"
      },
      "source": [
        "#@title Extract Audio from Video\n",
        "from moviepy.editor import VideoFileClip\n",
        "\n",
        "audio_file = None\n",
        "try:\n",
        "    clip = VideoFileClip(video_file)\n",
        "    audio_file = \"extracted_audio.wav\"\n",
        "    clip.audio.write_audiofile(audio_file, verbose=False, logger=None)\n",
        "    print(f\"Extracted audio saved to {audio_file}\")\n",
        "except Exception as e:\n",
        "    print(f\"Error extracting audio: {e}\")"
      ],
      "execution_count": null,
      "outputs": []
    },
    {
      "cell_type": "markdown",
      "metadata": {
        "id": "deKHuWjEUVSF"
      },
      "source": [
        "## 4. Transcribe Audio Using Whisper"
      ]
    },
    {
      "cell_type": "code",
      "metadata": {
        "colab": {
          "base_uri": "https://localhost:8080/"
        },
        "id": "r8LVIKJoUVSG",
        "outputId": "0a7b9c0e-dc84-4f26-b6c0-d8a93f84892e"
      },
      "source": [
        "import whisper\n",
        "\n",
        "transcription = None\n",
        "try:\n",
        "    model = whisper.load_model(\"base\")\n",
        "    result = model.transcribe(audio_file)\n",
        "    transcription = result[\"text\"]\n",
        "    print(\"Transcription completed.\")\n",
        "    print(f\"Transcript sample (first 300 chars): {transcription[:300]}...\")\n",
        "except Exception as e:\n",
        "    print(f\"Error during transcription: {e}\")"
      ],
      "execution_count": null,
      "outputs": []
    },
    {
      "cell_type": "markdown",
      "metadata": {
        "id": "fn4kBky1UVSG"
      },
      "source": [
        "## 5. Classify Accent Using GPT-4"
      ]
    },
    {
      "cell_type": "code",
      "metadata": {
        "colab": {
          "base_uri": "https://localhost:8080/"
        },
        "id": "xlQiY7WjUVSH",
        "outputId": "9507f6ca-3c10-48a7-b28e-75a29c89922c"
      },
      "source": [
        "openai.api_key = openai_api_key\n",
        "\n",
        "prompt = f\"\"\"\n",
        "You are a linguistic AI assistant tasked with identifying the speaker's English accent based on the following transcript:\n",
        "\n",
        "{transcription}\n",
        "\n",
        "Please classify the accent into one of the following categories:\n",
        "- British\n",
        "- American\n",
        "- Australian\n",
        "- Canadian\n",
        "- Indian\n",
        "- Irish\n",
        "- Scottish\n",
        "- Welsh\n",
        "- Other (please specify)\n",
        "\n",
        "Provide your answer as a JSON object with fields:\n",
        "  \"accent\": <accent name>,\n",
        "  \"confidence\": <percentage number 0-100>,\n",
        "  \"explanation\": <short reasoning>\n",
        "\"\"\"\n",
        "\n",
        "try:\n",
        "    response = openai.ChatCompletion.create(\n",
        "        model=\"gpt-4\",\n",
        "        messages=[{\"role\": \"user\", \"content\": prompt}],\n",
        "        temperature=0\n",
        "    )\n",
        "    classification = response.choices[0].message.content\n",
        "    print(\"Accent classification response:\")\n",
        "    print(classification)\n",
        "except Exception as e:\n",
        "    print(f\"Error calling OpenAI GPT-4 API: {e}\")"
      ],
      "execution_count": null,
      "outputs": []
    }
  ]
}
